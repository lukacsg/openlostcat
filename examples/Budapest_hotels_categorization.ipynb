{
 "cells": [
  {
   "cell_type": "markdown",
   "metadata": {},
   "source": [
    "# OpenLostCat Initialization and Query"
   ]
  },
  {
   "cell_type": "code",
   "execution_count": 1,
   "metadata": {},
   "outputs": [],
   "source": [
    "import folium\n",
    "from ipywidgets import interact\n",
    "\n",
    "import numpy as np\n",
    "import pandas as pd\n",
    "import time\n",
    "\n",
    "## pip install openlostcat\n",
    "from openlostcat.main_osm_categorizer import MainOsmCategorizer\n",
    "from openlostcat.osmqueryutils.ask_osm import ask_osm, ask_osm_around_point_df"
   ]
  },
  {
   "cell_type": "markdown",
   "metadata": {},
   "source": [
    "Overpass query for hotels in (the specified part of) Budapest: "
   ]
  },
  {
   "cell_type": "code",
   "execution_count": 2,
   "metadata": {},
   "outputs": [],
   "source": [
    "## For categorizing all hotel locations in Budapest, use the following query. \n",
    "## However, querying the neighborhood of each via Overpass takes usually more than an hour, \n",
    "## therefore only a rectangular area of Budapest is looked at in the next query item.\n",
    "##\n",
    "#budapest_req = \"\"\"\n",
    "#[out:json];\n",
    "#    (area[\"name\"=\"Budapest\"];) -> .searchArea;\n",
    "#    nwr[tourism=hotel](area.searchArea);\n",
    "#out tags center;\n",
    "#\"\"\""
   ]
  },
  {
   "cell_type": "code",
   "execution_count": 3,
   "metadata": {},
   "outputs": [],
   "source": [
    "budapest_req = \"\"\"\n",
    "[out:json];\n",
    "    nwr[tourism=hotel](47.507, 19.034, 47.566, 19.063);\n",
    "out tags center;\n",
    "\"\"\""
   ]
  },
  {
   "cell_type": "markdown",
   "metadata": {},
   "source": [
    "Query the hotels:"
   ]
  },
  {
   "cell_type": "code",
   "execution_count": 4,
   "metadata": {},
   "outputs": [
    {
     "data": {
      "text/plain": [
       "22"
      ]
     },
     "execution_count": 4,
     "metadata": {},
     "output_type": "execute_result"
    }
   ],
   "source": [
    "budapest_hotels = ask_osm(budapest_req)\n",
    "len(budapest_hotels['elements'])"
   ]
  },
  {
   "cell_type": "markdown",
   "metadata": {},
   "source": [
    "Extract the main attributes and organize hotel data into a data frame:"
   ]
  },
  {
   "cell_type": "code",
   "execution_count": 5,
   "metadata": {},
   "outputs": [],
   "source": [
    "[nwr.update(nwr['center']) for nwr in budapest_hotels['elements'] if 'center' in nwr]\n",
    "\n",
    "\n",
    "bp_hotels = pd.DataFrame([[nwr['id'], \n",
    "                           nwr['lat'], nwr['lon'], \n",
    "                           nwr['tags'].get('name', 'NoName'),  \n",
    "                           nwr['tags']] for nwr in budapest_hotels['elements']], \n",
    "                         columns = ['id', 'lat', 'lng', 'name', 'tags'])"
   ]
  },
  {
   "cell_type": "markdown",
   "metadata": {},
   "source": [
    "Query map objects in the proximity of each hotel - repeatedly in case of incompleteness (failure): "
   ]
  },
  {
   "cell_type": "code",
   "execution_count": 6,
   "metadata": {},
   "outputs": [],
   "source": [
    "osm = bp_hotels[[\"lat\", \"lng\"]].apply(lambda x: ask_osm_around_point_df(x, distance = 300), axis = 1)\n",
    "bp_hotels[\"osm\"] = osm"
   ]
  },
  {
   "cell_type": "code",
   "execution_count": 7,
   "metadata": {},
   "outputs": [
    {
     "data": {
      "text/plain": [
       "5"
      ]
     },
     "execution_count": 7,
     "metadata": {},
     "output_type": "execute_result"
    }
   ],
   "source": [
    "len(bp_hotels.loc[bp_hotels.osm.isna(), \"osm\"])"
   ]
  },
  {
   "cell_type": "code",
   "execution_count": 8,
   "metadata": {},
   "outputs": [],
   "source": [
    "while len(bp_hotels.loc[bp_hotels.osm.isna(), \"osm\"]) > 0:\n",
    "    time.sleep(5)\n",
    "    osm_isna = bp_hotels[bp_hotels.osm.isna()][[\"lat\", \"lng\"]].apply(lambda x: ask_osm_around_point_df(x, distance = 300), axis = 1)\n",
    "    bp_hotels.loc[bp_hotels.osm.isna(), \"osm\"] = osm_isna"
   ]
  },
  {
   "cell_type": "markdown",
   "metadata": {},
   "source": [
    "Define our visualization function:"
   ]
  },
  {
   "cell_type": "code",
   "execution_count": 9,
   "metadata": {},
   "outputs": [],
   "source": [
    "# If a category is empty, the map is positioned at the centroid of all hotels:\n",
    "zero_location = np.array(list(zip(bp_hotels[\"lat\"],bp_hotels[\"lng\"]))).mean(axis=0)\n",
    "\n",
    "def show_geo(related_geo, color_map, get_color_func):\n",
    "    tmp = related_geo\n",
    "    # extract coordinates\n",
    "    coords = np.array(list(zip(tmp[\"lat\"],tmp[\"lng\"])))\n",
    "    # extract other resources\n",
    "#     Some coding issue: https://github.com/python-visualization/folium/issues/1320\n",
    "    names = list([str(name.encode('raw_unicode_escape'))[2:-1] for name in tmp.name])\n",
    "    tags = list([str(str(tag).encode('raw_unicode_escape'))[2:-1] for tag in tmp.tags])\n",
    "    colors = get_color_func(tmp, color_map)\n",
    "    m = folium.Map(\n",
    "        location=coords.mean(axis=0) if len(coords) > 0 else zero_location,\n",
    "        zoom_start=12,\n",
    "        tiles='Stamen Terrain'\n",
    "    )\n",
    "    for i, loc in enumerate(coords):\n",
    "        folium.Marker(loc, popup='<i>%s</i>' % tags[i], tooltip=str(names[i]), icon=folium.Icon(color=colors[i])).add_to(m)\n",
    "    display(m)"
   ]
  },
  {
   "cell_type": "markdown",
   "metadata": {},
   "source": [
    "# Example Scenarios"
   ]
  },
  {
   "cell_type": "markdown",
   "metadata": {},
   "source": [
    "## Public Transport Accessibility"
   ]
  },
  {
   "cell_type": "markdown",
   "metadata": {},
   "source": [
    "> Categorization in this example is based on the degree of public transport availability in the proximity of each hotel:\n",
    "> * _Primary public transport accessibility_ means a fast and frequent rail connection is available nearby (light rail, subway or train service).\n",
    "> * _Standard public transport accessibility_ means any other public transport service is available nearby.\n",
    "> * _Inaccessibility_ means no public transport service is available nearby."
   ]
  },
  {
   "cell_type": "markdown",
   "metadata": {},
   "source": [
    "Initialize the categorizer and print categories:"
   ]
  },
  {
   "cell_type": "code",
   "execution_count": 10,
   "metadata": {},
   "outputs": [
    {
     "name": "stdout",
     "output_type": "stream",
     "text": [
      "{0: 'pt_primary_accessible', 1: 'pt_accessible', 2: 'pt_inaccessible'}\n",
      "CategoryCatalog:\n",
      "category rule collection: [\n",
      "    Category name: pt_primary_accessible\n",
      "    rules: [\n",
      "        ANY[8758019779889](\n",
      "            and(\n",
      "                {public_transport : {'stop_position'}}, is_optional_key = False\n",
      "                or[\n",
      "                    {light_rail : {'yes'}}, is_optional_key = False\n",
      "                    {subway : {'yes'}}, is_optional_key = False\n",
      "                    {train : {'yes'}}, is_optional_key = False\n",
      "                ]\n",
      "            )\n",
      "        )\n",
      "    ]\n",
      "    Category name: pt_accessible\n",
      "    rules: [\n",
      "        OR[\n",
      "            ANY[8758019780048](\n",
      "                {public_transport : {'stop_position', 'platform'}}, is_optional_key = False\n",
      "            )\n",
      "            ANY[8758019779982](\n",
      "                {amenity : {'ferry_terminal'}}, is_optional_key = False\n",
      "            )\n",
      "        ]\n",
      "    ]\n",
      "    Category name: pt_inaccessible\n",
      "    rules: [\n",
      "        CONST(True)\n",
      "    ]\n",
      "]\n"
     ]
    }
   ],
   "source": [
    "categorizer = MainOsmCategorizer('rules/publictransport_rules.json')\n",
    "print(categorizer.get_categories_enumerated_key_map())\n",
    "print(categorizer)"
   ]
  },
  {
   "cell_type": "markdown",
   "metadata": {},
   "source": [
    "Do the categorization and get the assigned category indices:"
   ]
  },
  {
   "cell_type": "code",
   "execution_count": 11,
   "metadata": {},
   "outputs": [],
   "source": [
    "bp_hotels[\"pt_cat\"] = [i[0] for i in bp_hotels.osm.map(categorizer.categorize)]"
   ]
  },
  {
   "cell_type": "markdown",
   "metadata": {},
   "source": [
    "Count the number of hotels in each category:"
   ]
  },
  {
   "cell_type": "code",
   "execution_count": 12,
   "metadata": {},
   "outputs": [
    {
     "data": {
      "text/plain": [
       "pt_accessible            11\n",
       "pt_primary_accessible    10\n",
       "pt_inaccessible           1\n",
       "Name: pt_cat, dtype: int64"
      ]
     },
     "execution_count": 12,
     "metadata": {},
     "output_type": "execute_result"
    }
   ],
   "source": [
    "bp_hotels.pt_cat.map(categorizer.get_categories_enumerated_key_map()).value_counts()"
   ]
  },
  {
   "cell_type": "markdown",
   "metadata": {},
   "source": [
    "Visualize on a map:"
   ]
  },
  {
   "cell_type": "code",
   "execution_count": 13,
   "metadata": {},
   "outputs": [
    {
     "data": {
      "application/vnd.jupyter.widget-view+json": {
       "model_id": "0cbfabbc40e84f23afdabb73aa32b2c9",
       "version_major": 2,
       "version_minor": 0
      },
      "text/plain": [
       "interactive(children=(Dropdown(description='pt_cat', options=('All', 'pt_primary_accessible', 'pt_accessible',…"
      ]
     },
     "metadata": {},
     "output_type": "display_data"
    }
   ],
   "source": [
    "color_map_pt = dict(zip([0, 1, 2], [\"green\", \"orange\", \"red\"]))\n",
    "get_color_func_pt = lambda df, color_map: list(df[\"pt_cat\"].apply(lambda x: color_map.get(x, \"black\")))\n",
    "key_map_pt = dict(zip(['pt_primary_accessible', 'pt_accessible', 'pt_inaccessiblee'], [0, 1, 2]))\n",
    "\n",
    "\n",
    "\n",
    "transport = ['All', 'pt_primary_accessible', 'pt_accessible', 'pt_inaccessible']\n",
    "@interact(pt_cat=transport)\n",
    "def get_transport(pt_cat):\n",
    "    selected = bp_hotels[bp_hotels.pt_cat == key_map_pt[pt_cat]] if pt_cat != 'All' else bp_hotels\n",
    "    show_geo(selected, color_map_pt, get_color_func_pt)"
   ]
  },
  {
   "cell_type": "markdown",
   "metadata": {},
   "source": [
    "## Wheelchair-Accessible (Barrier-Free) Shopping"
   ]
  },
  {
   "cell_type": "markdown",
   "metadata": {},
   "source": [
    "> Categorization in this example is based on the wheelchair-accessibility of supermarkets in the proximity of each hotel:\n",
    "> * _No wheelchair shopping_ means there is no barrier-free supermarket nearby.\n",
    "> * _Wheelchair-shopping paradise_ means every nearby supermarket is wheelchair-friendly.\n",
    "> * _Wheelchair-shopping_ means there is at least one wheelchair-accessible supermarket."
   ]
  },
  {
   "cell_type": "markdown",
   "metadata": {},
   "source": [
    "Initialize the categorizer and print categories:"
   ]
  },
  {
   "cell_type": "code",
   "execution_count": 14,
   "metadata": {},
   "outputs": [
    {
     "name": "stdout",
     "output_type": "stream",
     "text": [
      "{0: 'no_wheelchair_shopping', 1: 'wheelchair_shopping_paradise', 2: 'wheelchair_shopping'}\n",
      "CategoryCatalog:\n",
      "category rule collection: [\n",
      "    Category name: no_wheelchair_shopping\n",
      "    rules: [\n",
      "        ALL[8758011508279](\n",
      "            impl(\n",
      "                ref #is_supermarket(\n",
      "                    {shop : {'supermarket'}}, is_optional_key = False\n",
      "                )\n",
      "                 => \n",
      "                {wheelchair : {'no'}}, is_optional_key = True\n",
      "            )\n",
      "        )\n",
      "    ]\n",
      "    Category name: wheelchair_shopping_paradise\n",
      "    rules: [\n",
      "        ALL[8758011508414](\n",
      "            impl(\n",
      "                ref #is_supermarket(\n",
      "                    {shop : {'supermarket'}}, is_optional_key = False\n",
      "                )\n",
      "                 => \n",
      "                {wheelchair : {'designated', 'limited', 'yes'}}, is_optional_key = False\n",
      "            )\n",
      "        )\n",
      "    ]\n",
      "    Category name: wheelchair_shopping\n",
      "    rules: [\n",
      "        CONST(True)\n",
      "    ]\n",
      "]\n"
     ]
    }
   ],
   "source": [
    "categorizer1W = MainOsmCategorizer('rules/wheelchair.json')\n",
    "print(categorizer1W.get_categories_enumerated_key_map())\n",
    "print(categorizer1W)"
   ]
  },
  {
   "cell_type": "markdown",
   "metadata": {},
   "source": [
    "Do the categorization and get the assigned category indices:"
   ]
  },
  {
   "cell_type": "code",
   "execution_count": 15,
   "metadata": {},
   "outputs": [],
   "source": [
    "bp_hotels[\"wheelchair\"] = [i[0] for i in bp_hotels.osm.map(categorizer1W.categorize)]"
   ]
  },
  {
   "cell_type": "markdown",
   "metadata": {},
   "source": [
    "Count the number of hotels in each category:"
   ]
  },
  {
   "cell_type": "code",
   "execution_count": 16,
   "metadata": {},
   "outputs": [
    {
     "data": {
      "text/plain": [
       "no_wheelchair_shopping          11\n",
       "wheelchair_shopping              6\n",
       "wheelchair_shopping_paradise     5\n",
       "Name: wheelchair, dtype: int64"
      ]
     },
     "execution_count": 16,
     "metadata": {},
     "output_type": "execute_result"
    }
   ],
   "source": [
    "bp_hotels.wheelchair.map(categorizer1W.get_categories_enumerated_key_map()).value_counts()"
   ]
  },
  {
   "cell_type": "markdown",
   "metadata": {},
   "source": [
    "Visualize on a map:"
   ]
  },
  {
   "cell_type": "code",
   "execution_count": 17,
   "metadata": {},
   "outputs": [
    {
     "data": {
      "application/vnd.jupyter.widget-view+json": {
       "model_id": "cca2042bbe3d465e83aba99f3c77a644",
       "version_major": 2,
       "version_minor": 0
      },
      "text/plain": [
       "interactive(children=(Dropdown(description='wc_cat', options=('All', 'wheelchair_shopping_paradise', 'wheelcha…"
      ]
     },
     "metadata": {},
     "output_type": "display_data"
    }
   ],
   "source": [
    "color_map_wc = dict(zip([1, 2, 0], [\"green\", \"blue\", \"black\"]))\n",
    "get_color_func_wc = lambda df, color_map: list(df[\"wheelchair\"].apply(lambda x: color_map.get(x, \"black\")))\n",
    "key_map_wc = dict(zip(['wheelchair_shopping_paradise', 'wheelchair_shopping', 'no_wheelchair_shopping'], [1, 2, 0]))\n",
    "\n",
    "wc = ['All', 'wheelchair_shopping_paradise', 'wheelchair_shopping', 'no_wheelchair_shopping']\n",
    "@interact(wc_cat=wc)\n",
    "def get_wc(wc_cat):\n",
    "    selected = bp_hotels[bp_hotels.wheelchair == key_map_wc[wc_cat]] if wc_cat != 'All' else bp_hotels\n",
    "    show_geo(selected, color_map_wc, get_color_func_wc)"
   ]
  },
  {
   "cell_type": "markdown",
   "metadata": {},
   "source": [
    "## Attractive Neighborhood: Water Proximity and Calm Streets"
   ]
  },
  {
   "cell_type": "markdown",
   "metadata": {},
   "source": [
    "> Categorization in this example is based on whether the river bank is nearby and wheter all streets in the proximity of the hotel are at most tertiary graded. These aspects are evaluated in parallel and the best locations are in both categories:\n",
    "> * _Water nearby_ means the river bank is near the hotel,\n",
    "> * _Calm streets_ means there is no primary or secondary road nearby."
   ]
  },
  {
   "cell_type": "markdown",
   "metadata": {},
   "source": [
    "Initialize the categorizer and print categories (note: we are using the all-matching strategy here):"
   ]
  },
  {
   "cell_type": "code",
   "execution_count": 18,
   "metadata": {},
   "outputs": [
    {
     "name": "stdout",
     "output_type": "stream",
     "text": [
      "{0: 'water_nearby', 1: 'calm_streets'}\n",
      "CategoryCatalog:\n",
      "category rule collection: [\n",
      "    Category name: water_nearby\n",
      "    rules: [\n",
      "        ANY[8758011476309](\n",
      "            {waterway : {'river'}}, is_optional_key = False\n",
      "        )\n",
      "    ]\n",
      "    Category name: calm_streets\n",
      "    rules: [\n",
      "        ALL[not_road](\n",
      "            not(\n",
      "                {highway : {'primary', 'secondary'}}, is_optional_key = False\n",
      "            )\n",
      "        )\n",
      "    ]\n",
      "]\n"
     ]
    }
   ],
   "source": [
    "categorizer2 = MainOsmCategorizer('rules/attractive_neighborhood.json')\n",
    "print(categorizer2.get_categories_enumerated_key_map())\n",
    "print(categorizer2)"
   ]
  },
  {
   "cell_type": "markdown",
   "metadata": {},
   "source": [
    "Do the categorization and get the assigned category combinations:"
   ]
  },
  {
   "cell_type": "code",
   "execution_count": 19,
   "metadata": {},
   "outputs": [],
   "source": [
    "nb_cat = [[cat[0] for cat in cat_list] for cat_list in bp_hotels.osm.map(categorizer2.categorize)]\n",
    "bp_hotels[\"water_nearby\"] = [0 in cats  for cats in nb_cat]\n",
    "bp_hotels[\"calm_streets\"] = [1 in cats  for cats in nb_cat]"
   ]
  },
  {
   "cell_type": "markdown",
   "metadata": {},
   "source": [
    "Count the number of hotels in each category combination:"
   ]
  },
  {
   "cell_type": "code",
   "execution_count": 20,
   "metadata": {},
   "outputs": [
    {
     "name": "stdout",
     "output_type": "stream",
     "text": [
      "calm_streets and water: 2\n",
      "only water: 5\n",
      "only calm_streets: 2\n",
      "nothing: 13\n"
     ]
    }
   ],
   "source": [
    "print(\"calm_streets and water: \" + str(bp_hotels[bp_hotels.water_nearby & bp_hotels.calm_streets].shape[0]))\n",
    "print(\"only water: \" + str(bp_hotels[(bp_hotels.water_nearby) & (bp_hotels.calm_streets == False)].shape[0]))\n",
    "print(\"only calm_streets: \" + str(bp_hotels[(bp_hotels.water_nearby == False) & (bp_hotels.calm_streets)].shape[0]))\n",
    "print(\"nothing: \" + str(bp_hotels[(bp_hotels.water_nearby == False) & (bp_hotels.calm_streets == False)].shape[0]))"
   ]
  },
  {
   "cell_type": "markdown",
   "metadata": {},
   "source": [
    "Visualize on a map:"
   ]
  },
  {
   "cell_type": "code",
   "execution_count": 21,
   "metadata": {
    "scrolled": false
   },
   "outputs": [
    {
     "data": {
      "application/vnd.jupyter.widget-view+json": {
       "model_id": "6a3ef43a8ec144389b03b89acea40036",
       "version_major": 2,
       "version_minor": 0
      },
      "text/plain": [
       "interactive(children=(Dropdown(description='nearby_cat', options=('All', 'water_nearby', 'calm_streets', 'both…"
      ]
     },
     "metadata": {},
     "output_type": "display_data"
    }
   ],
   "source": [
    "color_map_nb = {\n",
    "    (True, False): \"blue\",\n",
    "    (False, True): \"green\",\n",
    "    (True, True): \"purple\",\n",
    "    (False, False): \"black\"\n",
    "}\n",
    "get_color_func_nb = lambda df, color_map: list(map(lambda x: color_map.get(x, \"black\"), list(zip(df.water_nearby, df.calm_streets))))\n",
    "nearby = ['All', 'water_nearby', 'calm_streets', 'both', 'none']\n",
    "@interact(nearby_cat=nearby)\n",
    "def get_nerby(nearby_cat):\n",
    "    water_nearby = lambda x: x[x.water_nearby]\n",
    "    calm_streets = lambda x: x[x.calm_streets]\n",
    "    both = lambda x: x[x.water_nearby & x.calm_streets]\n",
    "    none = lambda x: x[(x.water_nearby == False) & (x.calm_streets == False)]\n",
    "    switch = {\n",
    "        'water_nearby': water_nearby,\n",
    "        'calm_streets': calm_streets,\n",
    "        'both': both,\n",
    "        'none': none\n",
    "    }\n",
    "    selected = switch.get(nearby_cat, lambda x: x)(bp_hotels)\n",
    "    show_geo(selected, color_map_nb, get_color_func_nb)"
   ]
  },
  {
   "cell_type": "markdown",
   "metadata": {},
   "source": [
    "## Preferred Location Based on the Combination of Public Transport Availability and Attractive Neighborhood"
   ]
  },
  {
   "cell_type": "markdown",
   "metadata": {},
   "source": [
    "> Categorization in this example is based on the mixture of the public transport availability and the attractive neighborhood examples above. Note: The rule collection file defines references for each sub-category generated by these aspects.\n",
    "> * _1st-priority preferred location_ means a hotel with primary public transport availability and either water closeness or calm streets in the neighborhood.\n",
    "> * _2nd-priority preferred location_ means general public transport service availability and _both_ water closeness and calm streets.\n",
    "> * _3rd-priority preferred location_ means either water closness or calm streets without any reference to public transport access.\n",
    "> * _Not preferred location_ means the neighborhood is not attractive in terms of water proximity or calm streets."
   ]
  },
  {
   "cell_type": "markdown",
   "metadata": {},
   "source": [
    "Initialize the categorizer and print categories:"
   ]
  },
  {
   "cell_type": "code",
   "execution_count": 22,
   "metadata": {},
   "outputs": [
    {
     "name": "stdout",
     "output_type": "stream",
     "text": [
      "{0: '1st_preferred_location', 1: '2nd_preferred_location', 2: '3rd_preferred_location', 3: 'not_preferred_location'}\n",
      "CategoryCatalog:\n",
      "category rule collection: [\n",
      "    Category name: 1st_preferred_location\n",
      "    rules: [\n",
      "        AND(\n",
      "            REF ##pt_primary_accessible(\n",
      "                ANY[8758011487121](\n",
      "                    and(\n",
      "                        {public_transport : {'stop_position'}}, is_optional_key = False\n",
      "                        or[\n",
      "                            {light_rail : {'yes'}}, is_optional_key = False\n",
      "                            {subway : {'yes'}}, is_optional_key = False\n",
      "                            {train : {'yes'}}, is_optional_key = False\n",
      "                        ]\n",
      "                    )\n",
      "                )\n",
      "            )\n",
      "            REF ##water_OR_calm_streets(\n",
      "                OR[\n",
      "                    REF ##water_nearby(\n",
      "                        ANY[8758011487049](\n",
      "                            {waterway : {'river'}}, is_optional_key = False\n",
      "                        )\n",
      "                    )\n",
      "                    REF ##calm_streets(\n",
      "                        ALL[not_road](\n",
      "                            not(\n",
      "                                {highway : {'primary', 'secondary'}}, is_optional_key = False\n",
      "                            )\n",
      "                        )\n",
      "                    )\n",
      "                ]\n",
      "            )\n",
      "        )\n",
      "    ]\n",
      "    Category name: 2nd_preferred_location\n",
      "    rules: [\n",
      "        AND(\n",
      "            REF ##pt_accessible(\n",
      "                ANY[8758011487112](\n",
      "                    or[\n",
      "                        {public_transport : {'stop_position', 'platform'}}, is_optional_key = False\n",
      "                        {amenity : {'ferry_terminal'}}, is_optional_key = False\n",
      "                    ]\n",
      "                )\n",
      "            )\n",
      "            REF ##water_AND_calm_streets(\n",
      "                AND(\n",
      "                    REF ##water_nearby(\n",
      "                        ANY[8758011487049](\n",
      "                            {waterway : {'river'}}, is_optional_key = False\n",
      "                        )\n",
      "                    )\n",
      "                    REF ##calm_streets(\n",
      "                        ALL[not_road](\n",
      "                            not(\n",
      "                                {highway : {'primary', 'secondary'}}, is_optional_key = False\n",
      "                            )\n",
      "                        )\n",
      "                    )\n",
      "                )\n",
      "            )\n",
      "        )\n",
      "    ]\n",
      "    Category name: 3rd_preferred_location\n",
      "    rules: [\n",
      "        OR[\n",
      "            REF ##water_OR_calm_streets(\n",
      "                OR[\n",
      "                    REF ##water_nearby(\n",
      "                        ANY[8758011487049](\n",
      "                            {waterway : {'river'}}, is_optional_key = False\n",
      "                        )\n",
      "                    )\n",
      "                    REF ##calm_streets(\n",
      "                        ALL[not_road](\n",
      "                            not(\n",
      "                                {highway : {'primary', 'secondary'}}, is_optional_key = False\n",
      "                            )\n",
      "                        )\n",
      "                    )\n",
      "                ]\n",
      "            )\n",
      "        ]\n",
      "    ]\n",
      "    Category name: not_preferred_location\n",
      "    rules: [\n",
      "        CONST(True)\n",
      "    ]\n",
      "]\n"
     ]
    }
   ],
   "source": [
    "categorizer3 = MainOsmCategorizer('rules/mix.json')\n",
    "print(categorizer3.get_categories_enumerated_key_map())\n",
    "print(categorizer3)"
   ]
  },
  {
   "cell_type": "markdown",
   "metadata": {},
   "source": [
    "Do the categorization and get the assigned category indices:"
   ]
  },
  {
   "cell_type": "code",
   "execution_count": 23,
   "metadata": {},
   "outputs": [],
   "source": [
    "bp_hotels[\"preferred_cat\"] = [i[0] for i in bp_hotels.osm.map(categorizer3.categorize)]"
   ]
  },
  {
   "cell_type": "markdown",
   "metadata": {},
   "source": [
    "Count the number of hotels in each category:"
   ]
  },
  {
   "cell_type": "code",
   "execution_count": 24,
   "metadata": {},
   "outputs": [
    {
     "data": {
      "text/plain": [
       "not_preferred_location    13\n",
       "1st_preferred_location     4\n",
       "3rd_preferred_location     3\n",
       "2nd_preferred_location     2\n",
       "Name: preferred_cat, dtype: int64"
      ]
     },
     "execution_count": 24,
     "metadata": {},
     "output_type": "execute_result"
    }
   ],
   "source": [
    "bp_hotels.preferred_cat.map(categorizer3.get_categories_enumerated_key_map()).value_counts()"
   ]
  },
  {
   "cell_type": "markdown",
   "metadata": {},
   "source": [
    "Visualize on a map:"
   ]
  },
  {
   "cell_type": "code",
   "execution_count": 25,
   "metadata": {
    "scrolled": false
   },
   "outputs": [
    {
     "data": {
      "application/vnd.jupyter.widget-view+json": {
       "model_id": "aefc94f00c384aac91c17a96e562b1dc",
       "version_major": 2,
       "version_minor": 0
      },
      "text/plain": [
       "interactive(children=(Dropdown(description='preffered_cat', options=('All', '1st_preferred_location', '2nd_pre…"
      ]
     },
     "metadata": {},
     "output_type": "display_data"
    }
   ],
   "source": [
    "color_map_mix = dict(zip([0, 1, 2, 3], [\"green\", \"blue\", \"orange\", \"black\"]))\n",
    "get_color_func_mix = lambda df, color_map: list(df[\"preferred_cat\"].apply(lambda x: color_map.get(x, \"black\")))\n",
    "key_map_mix = dict(zip(['1st_preferred_location', '2nd_preferred_location', '3rd_preferred_location', 'not_preferred_location'], [0, 1, 2, 3]))\n",
    "\n",
    "preffered = ['All', '1st_preferred_location', '2nd_preferred_location', '3rd_preferred_location', 'not_preferred_location']\n",
    "@interact(preffered_cat=preffered)\n",
    "def get_nerby(preffered_cat):\n",
    "    selected = bp_hotels[bp_hotels.preferred_cat == key_map_mix[preffered_cat]] if preffered_cat != 'All' else bp_hotels\n",
    "    show_geo(selected, color_map_mix, get_color_func_mix)"
   ]
  }
 ],
 "metadata": {
  "kernelspec": {
   "display_name": "Python 3",
   "language": "python",
   "name": "python3"
  },
  "language_info": {
   "codemirror_mode": {
    "name": "ipython",
    "version": 3
   },
   "file_extension": ".py",
   "mimetype": "text/x-python",
   "name": "python",
   "nbconvert_exporter": "python",
   "pygments_lexer": "ipython3",
   "version": "3.8.3"
  },
  "toc": {
   "base_numbering": 1,
   "nav_menu": {},
   "number_sections": true,
   "sideBar": true,
   "skip_h1_title": false,
   "title_cell": "Table of Contents",
   "title_sidebar": "Contents",
   "toc_cell": false,
   "toc_position": {},
   "toc_section_display": true,
   "toc_window_display": false
  }
 },
 "nbformat": 4,
 "nbformat_minor": 4
}
