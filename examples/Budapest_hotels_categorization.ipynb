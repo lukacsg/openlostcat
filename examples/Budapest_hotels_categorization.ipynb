{
 "cells": [
  {
   "cell_type": "code",
   "execution_count": 1,
   "metadata": {},
   "outputs": [],
   "source": [
    "%matplotlib inline\n",
    "import matplotlib.pyplot as plt\n",
    "import folium\n",
    "import requests\n",
    "import json\n",
    "\n",
    "import pandas as pd\n",
    "import numpy as np\n",
    "\n",
    "## pip install openlostcat\n",
    "from openlostcat.main_osm_categorizer import MainOsmCategorizer\n",
    "from ipywidgets import interact"
   ]
  },
  {
   "cell_type": "code",
   "execution_count": 2,
   "metadata": {},
   "outputs": [],
   "source": [
    "budapest_req = \"\"\"\n",
    "[out:json];\n",
    "    (area[\"name\"=\"Budapest\"];) -> .searchArea;\n",
    "    node[tourism=hotel](area.searchArea);\n",
    "out body;\n",
    "\"\"\""
   ]
  },
  {
   "cell_type": "code",
   "execution_count": 3,
   "metadata": {},
   "outputs": [
    {
     "data": {
      "text/plain": [
       "140"
      ]
     },
     "execution_count": 3,
     "metadata": {},
     "output_type": "execute_result"
    }
   ],
   "source": [
    "# pip install openlostcat\n",
    "from openlostcat.osmqueryutils.ask_osm import ask_osm\n",
    "\n",
    "budapest_hotels = ask_osm(budapest_req)\n",
    "len(budapest_hotels['elements'])"
   ]
  },
  {
   "cell_type": "code",
   "execution_count": 4,
   "metadata": {},
   "outputs": [],
   "source": [
    "bp_hotels = pd.DataFrame([[node['id'], node['lat'], node['lon'], node['tags'].get('name', 'NoName'),  \n",
    "                           node['tags']] for node in budapest_hotels['elements']], \n",
    "                         columns = ['id','lat','lng', 'name', 'tags'])"
   ]
  },
  {
   "cell_type": "code",
   "execution_count": 5,
   "metadata": {},
   "outputs": [],
   "source": [
    "from openlostcat.osmqueryutils.ask_osm import ask_osm_around_point_df\n",
    "\n",
    "bp_hotels[\"osm\"] = bp_hotels[[\"lat\", \"lng\"]].T.apply(lambda x: ask_osm_around_point_df(x, distance = 300))"
   ]
  },
  {
   "cell_type": "code",
   "execution_count": 6,
   "metadata": {},
   "outputs": [
    {
     "data": {
      "text/plain": [
       "0"
      ]
     },
     "execution_count": 6,
     "metadata": {},
     "output_type": "execute_result"
    }
   ],
   "source": [
    "len(bp_hotels.loc[bp_hotels.osm.isna(), \"osm\"])"
   ]
  },
  {
   "cell_type": "code",
   "execution_count": 7,
   "metadata": {},
   "outputs": [],
   "source": [
    "if len(bp_hotels.loc[bp_hotels.osm.isna(), \"osm\"]) > 0:\n",
    "    bp_hotels.loc[bp_hotels.osm.isna(), \"osm\"] = \\\n",
    "    bp_hotels[bp_hotels.osm.isna()][[\"lat\", \"lng\"]].T.apply(lambda x: ask_osm_around_point_df(x, distance = 300))"
   ]
  },
  {
   "cell_type": "code",
   "execution_count": 8,
   "metadata": {},
   "outputs": [
    {
     "data": {
      "text/plain": [
       "0"
      ]
     },
     "execution_count": 8,
     "metadata": {},
     "output_type": "execute_result"
    }
   ],
   "source": [
    "len(bp_hotels.loc[bp_hotels.osm.isna(), \"osm\"])"
   ]
  },
  {
   "cell_type": "code",
   "execution_count": 56,
   "metadata": {},
   "outputs": [],
   "source": [
    "import folium\n",
    "\n",
    "def show_geo(related_geo, color_map, get_color_func):\n",
    "    tmp = related_geo\n",
    "    # extract coordinates\n",
    "    coords = np.array(list(zip(tmp[\"lat\"],tmp[\"lng\"])))\n",
    "    # extract other resources\n",
    "#     names = list(tmp[\"name\"])\n",
    "#     tags = list(tmp[\"tags\"])\n",
    "#     Some coding issue: https://github.com/python-visualization/folium/issues/1320\n",
    "    names = list([str(name.encode('raw_unicode_escape'))[2:-1] for name in tmp.name])\n",
    "    tags = list([str(str(tag).encode('raw_unicode_escape'))[2:-1] for tag in tmp.tags])\n",
    "    colors = get_color_func(tmp, color_map)\n",
    "    m = folium.Map(\n",
    "        location=coords.mean(axis=0),\n",
    "        zoom_start=12,\n",
    "        tiles='Stamen Terrain'\n",
    "    )\n",
    "    for i, loc in enumerate(coords):\n",
    "        folium.Marker(loc, popup='<i>%s</i>' % tags[i], tooltip=str(names[i]), icon=folium.Icon(color=colors[i])).add_to(m)\n",
    "    display(m)"
   ]
  },
  {
   "cell_type": "markdown",
   "metadata": {},
   "source": [
    "## Public transport"
   ]
  },
  {
   "cell_type": "code",
   "execution_count": 9,
   "metadata": {},
   "outputs": [
    {
     "name": "stdout",
     "output_type": "stream",
     "text": [
      "{0: 'pt_primary_accessible', 1: 'pt_accessible', 2: 'pt_nonaccessible'}\n",
      "CategoryCatalog:\n",
      "category rule collection: [\n",
      "    Category name: pt_primary_accessible\n",
      "    rules: [\n",
      "        ANY(\n",
      "            and(\n",
      "                {public_transport : {'stop_position'}}, is_optional_key = False\n",
      "                or[\n",
      "                    {light_rail : {'yes'}}, is_optional_key = False\n",
      "                    {subway : {'yes'}}, is_optional_key = False\n",
      "                    {train : {'yes'}}, is_optional_key = False\n",
      "                ]\n",
      "            )\n",
      "        )\n",
      "    ]\n",
      "    Category name: pt_accessible\n",
      "    rules: [\n",
      "        OR[\n",
      "            ANY(\n",
      "                {public_transport : {'stop_position'}}, is_optional_key = False\n",
      "            )\n",
      "            ANY(\n",
      "                {public_transport : {'platform'}}, is_optional_key = False\n",
      "            )\n",
      "            ANY(\n",
      "                {amenity : {'ferry_terminal'}}, is_optional_key = False\n",
      "            )\n",
      "        ]\n",
      "    ]\n",
      "    Category name: pt_nonaccessible\n",
      "    rules: [\n",
      "        CONST(True)\n",
      "    ]\n",
      "]\n"
     ]
    }
   ],
   "source": [
    "#from openlostcat.main_osm_categorizer import MainOsmCategorizer\n",
    "\n",
    "categorizer = MainOsmCategorizer('rules/publictransport_rules.json')\n",
    "print(categorizer.get_categories_enumerated_key_map())\n",
    "print(categorizer)\n",
    "\n",
    "bp_hotels[\"pt_cat\"] = [i[0] for i in bp_hotels.osm.map(categorizer.categorize)]"
   ]
  },
  {
   "cell_type": "code",
   "execution_count": 60,
   "metadata": {},
   "outputs": [
    {
     "data": {
      "text/plain": [
       "1    81\n",
       "0    54\n",
       "2     5\n",
       "Name: pt_cat, dtype: int64"
      ]
     },
     "execution_count": 60,
     "metadata": {},
     "output_type": "execute_result"
    }
   ],
   "source": [
    "bp_hotels.pt_cat.value_counts()"
   ]
  },
  {
   "cell_type": "code",
   "execution_count": 59,
   "metadata": {},
   "outputs": [
    {
     "data": {
      "application/vnd.jupyter.widget-view+json": {
       "model_id": "a269ad962d7244c6b57a99bb62baac53",
       "version_major": 2,
       "version_minor": 0
      },
      "text/plain": [
       "interactive(children=(Dropdown(description='pt_cat', options=('All', 'pt_primary_accessible', 'pt_accessible',…"
      ]
     },
     "metadata": {},
     "output_type": "display_data"
    }
   ],
   "source": [
    "color_map = dict(zip([0, 1, 2], [\"green\", \"orange\", \"red\"]))\n",
    "get_color_func = lambda df, color_map: list(df[\"pt_cat\"].apply(lambda x: color_map.get(x, \"black\")))\n",
    "key_map = dict(zip(['pt_primary_accessible', 'pt_accessible', 'pt_nonaccessible'], [0, 1, 2]))\n",
    "\n",
    "\n",
    "# show_geo(bp_hotels, color_map, get_color_func)\n",
    "\n",
    "\n",
    "transport = ['All', 'pt_primary_accessible', 'pt_accessible', 'pt_nonaccessible']\n",
    "@interact(pt_cat=transport)\n",
    "def get_transport(pt_cat):\n",
    "    selected = bp_hotels[bp_hotels.pt_cat == key_map[pt_cat]] if pt_cat != 'All' else bp_hotels\n",
    "    show_geo(selected, color_map, get_color_func)"
   ]
  },
  {
   "cell_type": "markdown",
   "metadata": {},
   "source": [
    "## Nearby"
   ]
  },
  {
   "cell_type": "code",
   "execution_count": 13,
   "metadata": {
    "scrolled": true
   },
   "outputs": [
    {
     "name": "stdout",
     "output_type": "stream",
     "text": [
      "{0: 'water_nearby', 1: 'park_nearby'}\n",
      "CategoryCatalog:\n",
      "category rule collection: [\n",
      "    Category name: water_nearby\n",
      "    rules: [\n",
      "        ANY(\n",
      "            {waterway : {'river'}}, is_optional_key = False\n",
      "        )\n",
      "    ]\n",
      "    Category name: park_nearby\n",
      "    rules: [\n",
      "        ANY(\n",
      "            {leisure : {'park'}}, is_optional_key = False\n",
      "        )\n",
      "    ]\n",
      "]\n"
     ]
    }
   ],
   "source": [
    "# from openlostcat.main_osm_categorizer import MainOsmCategorizer\n",
    "\n",
    "categorizer2 = MainOsmCategorizer('rules/nearby.json')\n",
    "print(categorizer2.get_categories_enumerated_key_map())\n",
    "print(categorizer2)\n",
    "\n",
    "nb_cat = [[cat[0] for cat in cat_list] for cat_list in bp_hotels.osm.map(categorizer2.categorize)]\n",
    "bp_hotels[\"water_nearby\"] = [0 in cats  for cats in nb_cat]\n",
    "bp_hotels[\"park_nearby\"] = [1 in cats  for cats in nb_cat]"
   ]
  },
  {
   "cell_type": "code",
   "execution_count": 70,
   "metadata": {},
   "outputs": [
    {
     "name": "stdout",
     "output_type": "stream",
     "text": [
      "park and water: 9\n",
      "only water: 4\n",
      "only park: 105\n",
      "nothing: 22\n"
     ]
    }
   ],
   "source": [
    "print(\"park and water: \" + str(bp_hotels[bp_hotels.water_nearby & bp_hotels.park_nearby].shape[0]))\n",
    "print(\"only water: \" + str(bp_hotels[(bp_hotels.water_nearby) & (bp_hotels.park_nearby == False)].shape[0]))\n",
    "print(\"only park: \" + str(bp_hotels[(bp_hotels.water_nearby == False) & (bp_hotels.park_nearby)].shape[0]))\n",
    "print(\"nothing: \" + str(bp_hotels[(bp_hotels.water_nearby == False) & (bp_hotels.park_nearby == False)].shape[0]))"
   ]
  },
  {
   "cell_type": "code",
   "execution_count": 55,
   "metadata": {},
   "outputs": [
    {
     "data": {
      "application/vnd.jupyter.widget-view+json": {
       "model_id": "60139315112a4667a6d1396f1fc6b0e7",
       "version_major": 2,
       "version_minor": 0
      },
      "text/plain": [
       "interactive(children=(Dropdown(description='nearby_cat', options=('All', 'water_nearby', 'park_nearby', 'both'…"
      ]
     },
     "metadata": {},
     "output_type": "display_data"
    }
   ],
   "source": [
    "color_map = {\n",
    "    (True, False): \"blue\",\n",
    "    (False, True): \"green\",\n",
    "    (True, True): \"purple\",\n",
    "    (False, False): \"black\"\n",
    "}\n",
    "get_color_func = lambda df, color_map: list(map(lambda x: color_map.get(x, \"black\"), list(zip(df.water_nearby, df.park_nearby))))\n",
    "nearby = ['All', 'water_nearby', 'park_nearby', 'both', 'none']\n",
    "@interact(nearby_cat=nearby)\n",
    "def get_nerby(nearby_cat):\n",
    "    water_nearby = lambda x: x[x.water_nearby]\n",
    "    park_nearby = lambda x: x[x.park_nearby]\n",
    "    both = lambda x: x[x.water_nearby & x.park_nearby]\n",
    "    none = lambda x: x[(x.water_nearby == False) & (x.park_nearby == False)]\n",
    "    switch = {\n",
    "        'water_nearby': water_nearby,\n",
    "        'park_nearby': park_nearby,\n",
    "        'both': both,\n",
    "        'none': none\n",
    "    }\n",
    "    selected = switch.get(nearby_cat, lambda x: x)(bp_hotels)\n",
    "    show_geo(selected, color_map, get_color_func)"
   ]
  },
  {
   "cell_type": "markdown",
   "metadata": {},
   "source": [
    "## Preferred: Mix"
   ]
  },
  {
   "cell_type": "code",
   "execution_count": 34,
   "metadata": {},
   "outputs": [
    {
     "name": "stdout",
     "output_type": "stream",
     "text": [
      "{0: '1st_preferred_location', 1: '2nd_preferred_location', 2: '3rd_preferred_location', 3: 'not_preferred_location'}\n",
      "CategoryCatalog:\n",
      "category rule collection: [\n",
      "    Category name: 1st_preferred_location\n",
      "    rules: [\n",
      "        AND(\n",
      "            REF ##pt_primary_accessible(\n",
      "                ANY(\n",
      "                    and(\n",
      "                        {public_transport : {'stop_position'}}, is_optional_key = False\n",
      "                        or[\n",
      "                            {light_rail : {'yes'}}, is_optional_key = False\n",
      "                            {subway : {'yes'}}, is_optional_key = False\n",
      "                            {train : {'yes'}}, is_optional_key = False\n",
      "                        ]\n",
      "                    )\n",
      "                )\n",
      "            )\n",
      "            REF ##water_AND_park(\n",
      "                AND(\n",
      "                    REF ##water_nearby(\n",
      "                        ANY(\n",
      "                            {waterway : {'river'}}, is_optional_key = False\n",
      "                        )\n",
      "                    )\n",
      "                    REF ##park_nearby(\n",
      "                        ANY(\n",
      "                            {leisure : {'park'}}, is_optional_key = False\n",
      "                        )\n",
      "                    )\n",
      "                )\n",
      "            )\n",
      "        )\n",
      "    ]\n",
      "    Category name: 2nd_preferred_location\n",
      "    rules: [\n",
      "        OR[\n",
      "            AND(\n",
      "                REF ##pt_primary_accessible(\n",
      "                    ANY(\n",
      "                        and(\n",
      "                            {public_transport : {'stop_position'}}, is_optional_key = False\n",
      "                            or[\n",
      "                                {light_rail : {'yes'}}, is_optional_key = False\n",
      "                                {subway : {'yes'}}, is_optional_key = False\n",
      "                                {train : {'yes'}}, is_optional_key = False\n",
      "                            ]\n",
      "                        )\n",
      "                    )\n",
      "                )\n",
      "                REF ##water_OR_park(\n",
      "                    OR[\n",
      "                        REF ##water_nearby(\n",
      "                            ANY(\n",
      "                                {waterway : {'river'}}, is_optional_key = False\n",
      "                            )\n",
      "                        )\n",
      "                        REF ##park_nearby(\n",
      "                            ANY(\n",
      "                                {leisure : {'park'}}, is_optional_key = False\n",
      "                            )\n",
      "                        )\n",
      "                    ]\n",
      "                )\n",
      "            )\n",
      "            AND(\n",
      "                REF ##pt_accessible(\n",
      "                    ANY(\n",
      "                        or[\n",
      "                            {public_transport : {'stop_position'}}, is_optional_key = False\n",
      "                            {public_transport : {'platform'}}, is_optional_key = False\n",
      "                            {amenity : {'ferry_terminal'}}, is_optional_key = False\n",
      "                        ]\n",
      "                    )\n",
      "                )\n",
      "                REF ##water_AND_park(\n",
      "                    AND(\n",
      "                        REF ##water_nearby(\n",
      "                            ANY(\n",
      "                                {waterway : {'river'}}, is_optional_key = False\n",
      "                            )\n",
      "                        )\n",
      "                        REF ##park_nearby(\n",
      "                            ANY(\n",
      "                                {leisure : {'park'}}, is_optional_key = False\n",
      "                            )\n",
      "                        )\n",
      "                    )\n",
      "                )\n",
      "            )\n",
      "        ]\n",
      "    ]\n",
      "    Category name: 3rd_preferred_location\n",
      "    rules: [\n",
      "        AND(\n",
      "            REF ##pt_accessible(\n",
      "                ANY(\n",
      "                    or[\n",
      "                        {public_transport : {'stop_position'}}, is_optional_key = False\n",
      "                        {public_transport : {'platform'}}, is_optional_key = False\n",
      "                        {amenity : {'ferry_terminal'}}, is_optional_key = False\n",
      "                    ]\n",
      "                )\n",
      "            )\n",
      "            REF ##water_OR_park(\n",
      "                OR[\n",
      "                    REF ##water_nearby(\n",
      "                        ANY(\n",
      "                            {waterway : {'river'}}, is_optional_key = False\n",
      "                        )\n",
      "                    )\n",
      "                    REF ##park_nearby(\n",
      "                        ANY(\n",
      "                            {leisure : {'park'}}, is_optional_key = False\n",
      "                        )\n",
      "                    )\n",
      "                ]\n",
      "            )\n",
      "        )\n",
      "    ]\n",
      "    Category name: not_preferred_location\n",
      "    rules: [\n",
      "        CONST(True)\n",
      "    ]\n",
      "]\n"
     ]
    }
   ],
   "source": [
    "# from openlostcat.main_osm_categorizer import MainOsmCategorizer\n",
    "\n",
    "categorizer3 = MainOsmCategorizer('rules/mix.json')\n",
    "print(categorizer3.get_categories_enumerated_key_map())\n",
    "print(categorizer3)\n",
    "\n",
    "bp_hotels[\"preferred_cat\"] = [i[0] for i in bp_hotels.osm.map(categorizer3.categorize)]"
   ]
  },
  {
   "cell_type": "code",
   "execution_count": 35,
   "metadata": {},
   "outputs": [
    {
     "data": {
      "text/plain": [
       "2    60\n",
       "1    52\n",
       "3    25\n",
       "0     3\n",
       "Name: preferred_cat, dtype: int64"
      ]
     },
     "execution_count": 35,
     "metadata": {},
     "output_type": "execute_result"
    }
   ],
   "source": [
    "bp_hotels.preferred_cat.value_counts()"
   ]
  },
  {
   "cell_type": "code",
   "execution_count": 54,
   "metadata": {},
   "outputs": [
    {
     "data": {
      "application/vnd.jupyter.widget-view+json": {
       "model_id": "1c55cdb947014006a57461136136ced4",
       "version_major": 2,
       "version_minor": 0
      },
      "text/plain": [
       "interactive(children=(Dropdown(description='preffered_cat', options=('All', '1st_preferred_location', '2nd_pre…"
      ]
     },
     "metadata": {},
     "output_type": "display_data"
    }
   ],
   "source": [
    "color_map = dict(zip([0, 1, 2, 3], [\"green\", \"blue\", \"orange\", \"black\"]))\n",
    "get_color_func = lambda df, color_map: list(df[\"preferred_cat\"].apply(lambda x: color_map.get(x, \"black\")))\n",
    "key_map = dict(zip(['1st_preferred_location', '2nd_preferred_location', '3rd_preferred_location', 'not_preferred_location'], [0, 1, 2, 3]))\n",
    "\n",
    "preffered = ['All', '1st_preferred_location', '2nd_preferred_location', '3rd_preferred_location', 'not_preferred_location']\n",
    "@interact(preffered_cat=preffered)\n",
    "def get_nerby(preffered_cat):\n",
    "    selected = bp_hotels[bp_hotels.preferred_cat == key_map[preffered_cat]] if preffered_cat != 'All' else bp_hotels\n",
    "    show_geo(selected, color_map, get_color_func)"
   ]
  }
 ],
 "metadata": {
  "kernelspec": {
   "display_name": "Python 3",
   "language": "python",
   "name": "python3"
  },
  "language_info": {
   "codemirror_mode": {
    "name": "ipython",
    "version": 3
   },
   "file_extension": ".py",
   "mimetype": "text/x-python",
   "name": "python",
   "nbconvert_exporter": "python",
   "pygments_lexer": "ipython3",
   "version": "3.8.3"
  },
  "toc": {
   "base_numbering": 1,
   "nav_menu": {},
   "number_sections": true,
   "sideBar": true,
   "skip_h1_title": false,
   "title_cell": "Table of Contents",
   "title_sidebar": "Contents",
   "toc_cell": false,
   "toc_position": {},
   "toc_section_display": true,
   "toc_window_display": false
  }
 },
 "nbformat": 4,
 "nbformat_minor": 4
}
