{
 "cells": [
  {
   "cell_type": "code",
   "execution_count": 3,
   "metadata": {},
   "outputs": [],
   "source": [
    "%matplotlib inline\n",
    "import matplotlib.pyplot as plt\n",
    "import folium\n",
    "import requests\n",
    "import json\n",
    "\n",
    "import pandas as pd\n",
    "import numpy as np\n",
    "\n",
    "## pip install openlostcat\n",
    "from openlostcat.main_osm_categorizer import MainOsmCategorizer\n",
    "from ipywidgets import interact"
   ]
  },
  {
   "cell_type": "code",
   "execution_count": 4,
   "metadata": {},
   "outputs": [],
   "source": [
    "budapest_req = \"\"\"\n",
    "[out:json];\n",
    "    (area[\"name\"=\"Budapest\"];) -> .searchArea;\n",
    "    nwr[tourism=hotel](area.searchArea);\n",
    "out tags center;\n",
    "\"\"\""
   ]
  },
  {
   "cell_type": "code",
   "execution_count": 5,
   "metadata": {},
   "outputs": [
    {
     "data": {
      "text/plain": [
       "260"
      ]
     },
     "execution_count": 5,
     "metadata": {},
     "output_type": "execute_result"
    }
   ],
   "source": [
    "# pip install openlostcat\n",
    "from openlostcat.osmqueryutils.ask_osm import ask_osm\n",
    "\n",
    "budapest_hotels = ask_osm(budapest_req)\n",
    "len(budapest_hotels['elements'])"
   ]
  },
  {
   "cell_type": "code",
   "execution_count": 21,
   "metadata": {},
   "outputs": [],
   "source": [
    "[nwr.update(nwr['center']) for nwr in budapest_hotels['elements'] if 'center' in nwr]\n",
    "\n",
    "\n",
    "bp_hotels = pd.DataFrame([[nwr['id'], \n",
    "                           nwr['lat'], nwr['lon'], \n",
    "                           nwr['tags'].get('name', 'NoName'),  \n",
    "                           nwr['tags']] for nwr in budapest_hotels['elements']], \n",
    "                         columns = ['id', 'lat', 'lng', 'name', 'tags'])"
   ]
  },
  {
   "cell_type": "code",
   "execution_count": 26,
   "metadata": {},
   "outputs": [],
   "source": [
    "from openlostcat.osmqueryutils.ask_osm import ask_osm_around_point_df\n",
    "\n",
    "osm = bp_hotels[[\"lat\", \"lng\"]].apply(lambda x: ask_osm_around_point_df(x, distance = 300), axis = 1)\n",
    "bp_hotels[\"osm\"] = osm"
   ]
  },
  {
   "cell_type": "code",
   "execution_count": 27,
   "metadata": {},
   "outputs": [
    {
     "data": {
      "text/plain": [
       "43"
      ]
     },
     "execution_count": 27,
     "metadata": {},
     "output_type": "execute_result"
    }
   ],
   "source": [
    "len(bp_hotels.loc[bp_hotels.osm.isna(), \"osm\"])"
   ]
  },
  {
   "cell_type": "code",
   "execution_count": 34,
   "metadata": {},
   "outputs": [],
   "source": [
    "if len(bp_hotels.loc[bp_hotels.osm.isna(), \"osm\"]) > 0:\n",
    "    osm_isna = bp_hotels[bp_hotels.osm.isna()][[\"lat\", \"lng\"]].apply(lambda x: ask_osm_around_point_df(x, distance = 300), axis = 1)\n",
    "    bp_hotels.loc[bp_hotels.osm.isna(), \"osm\"] = osm_isna"
   ]
  },
  {
   "cell_type": "code",
   "execution_count": 35,
   "metadata": {},
   "outputs": [
    {
     "data": {
      "text/plain": [
       "0"
      ]
     },
     "execution_count": 35,
     "metadata": {},
     "output_type": "execute_result"
    }
   ],
   "source": [
    "len(bp_hotels.loc[bp_hotels.osm.isna(), \"osm\"])"
   ]
  },
  {
   "cell_type": "code",
   "execution_count": 36,
   "metadata": {},
   "outputs": [],
   "source": [
    "import folium\n",
    "\n",
    "zero_location = np.array(list(zip(bp_hotels[\"lat\"],bp_hotels[\"lng\"]))).mean(axis=0)\n",
    "\n",
    "def show_geo(related_geo, color_map, get_color_func):\n",
    "    tmp = related_geo\n",
    "    # extract coordinates\n",
    "    coords = np.array(list(zip(tmp[\"lat\"],tmp[\"lng\"])))\n",
    "    # extract other resources\n",
    "#     Some coding issue: https://github.com/python-visualization/folium/issues/1320\n",
    "    names = list([str(name.encode('raw_unicode_escape'))[2:-1] for name in tmp.name])\n",
    "    tags = list([str(str(tag).encode('raw_unicode_escape'))[2:-1] for tag in tmp.tags])\n",
    "    colors = get_color_func(tmp, color_map)\n",
    "    m = folium.Map(\n",
    "        location=coords.mean(axis=0) if len(coords) > 0 else zero_location,\n",
    "        zoom_start=12,\n",
    "        tiles='Stamen Terrain'\n",
    "    )\n",
    "    for i, loc in enumerate(coords):\n",
    "        folium.Marker(loc, popup='<i>%s</i>' % tags[i], tooltip=str(names[i]), icon=folium.Icon(color=colors[i])).add_to(m)\n",
    "    display(m)"
   ]
  },
  {
   "cell_type": "markdown",
   "metadata": {},
   "source": [
    "## Public transport"
   ]
  },
  {
   "cell_type": "code",
   "execution_count": 37,
   "metadata": {},
   "outputs": [
    {
     "name": "stdout",
     "output_type": "stream",
     "text": [
      "{0: 'pt_primary_accessible', 1: 'pt_accessible', 2: 'pt_nonaccessible'}\n",
      "CategoryCatalog:\n",
      "category rule collection: [\n",
      "    Category name: pt_primary_accessible\n",
      "    rules: [\n",
      "        ANY(\n",
      "            and(\n",
      "                {public_transport : {'stop_position'}}, is_optional_key = False\n",
      "                or[\n",
      "                    {light_rail : {'yes'}}, is_optional_key = False\n",
      "                    {subway : {'yes'}}, is_optional_key = False\n",
      "                    {train : {'yes'}}, is_optional_key = False\n",
      "                ]\n",
      "            )\n",
      "        )\n",
      "    ]\n",
      "    Category name: pt_accessible\n",
      "    rules: [\n",
      "        OR[\n",
      "            ANY(\n",
      "                {public_transport : {'stop_position'}}, is_optional_key = False\n",
      "            )\n",
      "            ANY(\n",
      "                {public_transport : {'platform'}}, is_optional_key = False\n",
      "            )\n",
      "            ANY(\n",
      "                {amenity : {'ferry_terminal'}}, is_optional_key = False\n",
      "            )\n",
      "        ]\n",
      "    ]\n",
      "    Category name: pt_nonaccessible\n",
      "    rules: [\n",
      "        CONST(True)\n",
      "    ]\n",
      "]\n"
     ]
    }
   ],
   "source": [
    "categorizer = MainOsmCategorizer('rules/publictransport_rules.json')\n",
    "print(categorizer.get_categories_enumerated_key_map())\n",
    "print(categorizer)\n",
    "\n",
    "bp_hotels[\"pt_cat\"] = [i[0] for i in bp_hotels.osm.map(categorizer.categorize)]"
   ]
  },
  {
   "cell_type": "code",
   "execution_count": 38,
   "metadata": {},
   "outputs": [
    {
     "data": {
      "text/plain": [
       "1    146\n",
       "0    107\n",
       "2      7\n",
       "Name: pt_cat, dtype: int64"
      ]
     },
     "execution_count": 38,
     "metadata": {},
     "output_type": "execute_result"
    }
   ],
   "source": [
    "bp_hotels.pt_cat.value_counts()"
   ]
  },
  {
   "cell_type": "code",
   "execution_count": 39,
   "metadata": {},
   "outputs": [
    {
     "data": {
      "application/vnd.jupyter.widget-view+json": {
       "model_id": "2891a2538aa140e983cd5349328fd2cd",
       "version_major": 2,
       "version_minor": 0
      },
      "text/plain": [
       "interactive(children=(Dropdown(description='pt_cat', options=('All', 'pt_primary_accessible', 'pt_accessible',…"
      ]
     },
     "metadata": {},
     "output_type": "display_data"
    }
   ],
   "source": [
    "color_map_pt = dict(zip([0, 1, 2], [\"green\", \"orange\", \"red\"]))\n",
    "get_color_func_pt = lambda df, color_map: list(df[\"pt_cat\"].apply(lambda x: color_map.get(x, \"black\")))\n",
    "key_map_pt = dict(zip(['pt_primary_accessible', 'pt_accessible', 'pt_nonaccessible'], [0, 1, 2]))\n",
    "\n",
    "\n",
    "\n",
    "transport = ['All', 'pt_primary_accessible', 'pt_accessible', 'pt_nonaccessible']\n",
    "@interact(pt_cat=transport)\n",
    "def get_transport(pt_cat):\n",
    "    selected = bp_hotels[bp_hotels.pt_cat == key_map_pt[pt_cat]] if pt_cat != 'All' else bp_hotels\n",
    "    show_geo(selected, color_map_pt, get_color_func_pt)"
   ]
  },
  {
   "cell_type": "markdown",
   "metadata": {},
   "source": [
    "## Nearby"
   ]
  },
  {
   "cell_type": "code",
   "execution_count": 40,
   "metadata": {},
   "outputs": [
    {
     "name": "stdout",
     "output_type": "stream",
     "text": [
      "{0: 'water_nearby', 1: 'calm_streets'}\n",
      "CategoryCatalog:\n",
      "category rule collection: [\n",
      "    Category name: water_nearby\n",
      "    rules: [\n",
      "        ANY(\n",
      "            {waterway : {'river'}}, is_optional_key = False\n",
      "        )\n",
      "    ]\n",
      "    Category name: calm_streets\n",
      "    rules: [\n",
      "        ALL(\n",
      "            not(\n",
      "                {highway : {'primary', 'secondary'}}, is_optional_key = False\n",
      "            )\n",
      "        )\n",
      "    ]\n",
      "]\n"
     ]
    }
   ],
   "source": [
    "categorizer2 = MainOsmCategorizer('rules/nearby.json')\n",
    "print(categorizer2.get_categories_enumerated_key_map())\n",
    "print(categorizer2)\n",
    "\n",
    "\n",
    "nb_cat = [[cat[0] for cat in cat_list] for cat_list in bp_hotels.osm.map(categorizer2.categorize)]\n",
    "bp_hotels[\"water_nearby\"] = [0 in cats  for cats in nb_cat]\n",
    "bp_hotels[\"calm_streets\"] = [1 in cats  for cats in nb_cat]"
   ]
  },
  {
   "cell_type": "code",
   "execution_count": 41,
   "metadata": {},
   "outputs": [
    {
     "name": "stdout",
     "output_type": "stream",
     "text": [
      "calm_streets and water: 7\n",
      "only water: 20\n",
      "only calm_streets: 40\n",
      "nothing: 193\n"
     ]
    }
   ],
   "source": [
    "print(\"calm_streets and water: \" + str(bp_hotels[bp_hotels.water_nearby & bp_hotels.calm_streets].shape[0]))\n",
    "print(\"only water: \" + str(bp_hotels[(bp_hotels.water_nearby) & (bp_hotels.calm_streets == False)].shape[0]))\n",
    "print(\"only calm_streets: \" + str(bp_hotels[(bp_hotels.water_nearby == False) & (bp_hotels.calm_streets)].shape[0]))\n",
    "print(\"nothing: \" + str(bp_hotels[(bp_hotels.water_nearby == False) & (bp_hotels.calm_streets == False)].shape[0]))"
   ]
  },
  {
   "cell_type": "code",
   "execution_count": 42,
   "metadata": {
    "scrolled": false
   },
   "outputs": [
    {
     "data": {
      "application/vnd.jupyter.widget-view+json": {
       "model_id": "e0e7cf5c4c624dd6a498cb4212c80ce0",
       "version_major": 2,
       "version_minor": 0
      },
      "text/plain": [
       "interactive(children=(Dropdown(description='nearby_cat', options=('All', 'water_nearby', 'calm_streets', 'both…"
      ]
     },
     "metadata": {},
     "output_type": "display_data"
    }
   ],
   "source": [
    "color_map_nb = {\n",
    "    (True, False): \"blue\",\n",
    "    (False, True): \"green\",\n",
    "    (True, True): \"purple\",\n",
    "    (False, False): \"black\"\n",
    "}\n",
    "get_color_func_nb = lambda df, color_map: list(map(lambda x: color_map.get(x, \"black\"), list(zip(df.water_nearby, df.calm_streets))))\n",
    "nearby = ['All', 'water_nearby', 'calm_streets', 'both', 'none']\n",
    "@interact(nearby_cat=nearby)\n",
    "def get_nerby(nearby_cat):\n",
    "    water_nearby = lambda x: x[x.water_nearby]\n",
    "    calm_streets = lambda x: x[x.calm_streets]\n",
    "    both = lambda x: x[x.water_nearby & x.calm_streets]\n",
    "    none = lambda x: x[(x.water_nearby == False) & (x.calm_streets == False)]\n",
    "    switch = {\n",
    "        'water_nearby': water_nearby,\n",
    "        'calm_streets': calm_streets,\n",
    "        'both': both,\n",
    "        'none': none\n",
    "    }\n",
    "    selected = switch.get(nearby_cat, lambda x: x)(bp_hotels)\n",
    "    show_geo(selected, color_map_nb, get_color_func_nb)"
   ]
  },
  {
   "cell_type": "markdown",
   "metadata": {},
   "source": [
    "## Preferred: Mix"
   ]
  },
  {
   "cell_type": "code",
   "execution_count": 43,
   "metadata": {},
   "outputs": [
    {
     "name": "stdout",
     "output_type": "stream",
     "text": [
      "{0: '1st_preferred_location', 1: '2nd_preferred_location', 2: '3rd_preferred_location', 3: 'not_preferred_location'}\n",
      "CategoryCatalog:\n",
      "category rule collection: [\n",
      "    Category name: 1st_preferred_location\n",
      "    rules: [\n",
      "        AND(\n",
      "            REF ##pt_primary_accessible(\n",
      "                ANY(\n",
      "                    and(\n",
      "                        {public_transport : {'stop_position'}}, is_optional_key = False\n",
      "                        or[\n",
      "                            {light_rail : {'yes'}}, is_optional_key = False\n",
      "                            {subway : {'yes'}}, is_optional_key = False\n",
      "                            {train : {'yes'}}, is_optional_key = False\n",
      "                        ]\n",
      "                    )\n",
      "                )\n",
      "            )\n",
      "            REF ##water_OR_calm_streets(\n",
      "                OR[\n",
      "                    REF ##water_nearby(\n",
      "                        ANY(\n",
      "                            {waterway : {'river'}}, is_optional_key = False\n",
      "                        )\n",
      "                    )\n",
      "                    REF ##calm_streets(\n",
      "                        ALL(\n",
      "                            not(\n",
      "                                {highway : {'primary', 'secondary'}}, is_optional_key = False\n",
      "                            )\n",
      "                        )\n",
      "                    )\n",
      "                ]\n",
      "            )\n",
      "        )\n",
      "    ]\n",
      "    Category name: 2nd_preferred_location\n",
      "    rules: [\n",
      "        AND(\n",
      "            REF ##pt_accessible(\n",
      "                ANY(\n",
      "                    or[\n",
      "                        {public_transport : {'stop_position'}}, is_optional_key = False\n",
      "                        {public_transport : {'platform'}}, is_optional_key = False\n",
      "                        {amenity : {'ferry_terminal'}}, is_optional_key = False\n",
      "                    ]\n",
      "                )\n",
      "            )\n",
      "            REF ##water_AND_calm_streets(\n",
      "                AND(\n",
      "                    REF ##water_nearby(\n",
      "                        ANY(\n",
      "                            {waterway : {'river'}}, is_optional_key = False\n",
      "                        )\n",
      "                    )\n",
      "                    REF ##calm_streets(\n",
      "                        ALL(\n",
      "                            not(\n",
      "                                {highway : {'primary', 'secondary'}}, is_optional_key = False\n",
      "                            )\n",
      "                        )\n",
      "                    )\n",
      "                )\n",
      "            )\n",
      "        )\n",
      "    ]\n",
      "    Category name: 3rd_preferred_location\n",
      "    rules: [\n",
      "        OR[\n",
      "            REF ##water_OR_calm_streets(\n",
      "                OR[\n",
      "                    REF ##water_nearby(\n",
      "                        ANY(\n",
      "                            {waterway : {'river'}}, is_optional_key = False\n",
      "                        )\n",
      "                    )\n",
      "                    REF ##calm_streets(\n",
      "                        ALL(\n",
      "                            not(\n",
      "                                {highway : {'primary', 'secondary'}}, is_optional_key = False\n",
      "                            )\n",
      "                        )\n",
      "                    )\n",
      "                ]\n",
      "            )\n",
      "        ]\n",
      "    ]\n",
      "    Category name: not_preferred_location\n",
      "    rules: [\n",
      "        CONST(True)\n",
      "    ]\n",
      "]\n"
     ]
    }
   ],
   "source": [
    "categorizer3 = MainOsmCategorizer('rules/mix.json')\n",
    "print(categorizer3.get_categories_enumerated_key_map())\n",
    "print(categorizer3)\n",
    "\n",
    "bp_hotels[\"preferred_cat\"] = [i[0] for i in bp_hotels.osm.map(categorizer3.categorize)]"
   ]
  },
  {
   "cell_type": "code",
   "execution_count": 44,
   "metadata": {},
   "outputs": [
    {
     "data": {
      "text/plain": [
       "3    193\n",
       "2     49\n",
       "0     12\n",
       "1      6\n",
       "Name: preferred_cat, dtype: int64"
      ]
     },
     "execution_count": 44,
     "metadata": {},
     "output_type": "execute_result"
    }
   ],
   "source": [
    "bp_hotels.preferred_cat.value_counts()"
   ]
  },
  {
   "cell_type": "code",
   "execution_count": 45,
   "metadata": {
    "scrolled": false
   },
   "outputs": [
    {
     "data": {
      "application/vnd.jupyter.widget-view+json": {
       "model_id": "a229fc27327e43beb33bf08cfa3f52d3",
       "version_major": 2,
       "version_minor": 0
      },
      "text/plain": [
       "interactive(children=(Dropdown(description='preffered_cat', options=('All', '1st_preferred_location', '2nd_pre…"
      ]
     },
     "metadata": {},
     "output_type": "display_data"
    }
   ],
   "source": [
    "color_map_mix = dict(zip([0, 1, 2, 3], [\"green\", \"blue\", \"orange\", \"black\"]))\n",
    "get_color_func_mix = lambda df, color_map: list(df[\"preferred_cat\"].apply(lambda x: color_map.get(x, \"black\")))\n",
    "key_map_mix = dict(zip(['1st_preferred_location', '2nd_preferred_location', '3rd_preferred_location', 'not_preferred_location'], [0, 1, 2, 3]))\n",
    "\n",
    "preffered = ['All', '1st_preferred_location', '2nd_preferred_location', '3rd_preferred_location', 'not_preferred_location']\n",
    "@interact(preffered_cat=preffered)\n",
    "def get_nerby(preffered_cat):\n",
    "    selected = bp_hotels[bp_hotels.preferred_cat == key_map_mix[preffered_cat]] if preffered_cat != 'All' else bp_hotels\n",
    "    show_geo(selected, color_map_mix, get_color_func_mix)"
   ]
  },
  {
   "cell_type": "code",
   "execution_count": null,
   "metadata": {},
   "outputs": [],
   "source": []
  },
  {
   "cell_type": "code",
   "execution_count": null,
   "metadata": {},
   "outputs": [],
   "source": []
  }
 ],
 "metadata": {
  "kernelspec": {
   "display_name": "Python 3",
   "language": "python",
   "name": "python3"
  },
  "language_info": {
   "codemirror_mode": {
    "name": "ipython",
    "version": 3
   },
   "file_extension": ".py",
   "mimetype": "text/x-python",
   "name": "python",
   "nbconvert_exporter": "python",
   "pygments_lexer": "ipython3",
   "version": "3.8.3"
  },
  "toc": {
   "base_numbering": 1,
   "nav_menu": {},
   "number_sections": true,
   "sideBar": true,
   "skip_h1_title": false,
   "title_cell": "Table of Contents",
   "title_sidebar": "Contents",
   "toc_cell": false,
   "toc_position": {},
   "toc_section_display": true,
   "toc_window_display": false
  }
 },
 "nbformat": 4,
 "nbformat_minor": 4
}
